{
 "cells": [
  {
   "cell_type": "code",
   "execution_count": 1,
   "id": "a434a2f8",
   "metadata": {},
   "outputs": [],
   "source": [
    "# Standard Imports\n",
    "import numpy as np\n",
    "import pandas as pd\n",
    "import matplotlib.pyplot as plt\n",
    "import seaborn as sns\n",
    "# Additional Imports\n",
    "import os, json, math, time\n",
    "from yelpapi import YelpAPI\n",
    "from tqdm.notebook import tqdm_notebook"
   ]
  },
  {
   "cell_type": "code",
   "execution_count": 2,
   "id": "fa93c580",
   "metadata": {},
   "outputs": [
    {
     "name": "stdout",
     "output_type": "stream",
     "text": [
      "Requirement already satisfied: pip-system-certs in c:\\users\\x474241\\appdata\\local\\anaconda3\\lib\\site-packages (4.0)\n",
      "Requirement already satisfied: wrapt>=1.10.4 in c:\\users\\x474241\\appdata\\local\\anaconda3\\lib\\site-packages (from pip-system-certs) (1.14.1)\n"
     ]
    }
   ],
   "source": [
    "import requests\n",
    "!pip install pip-system-certs"
   ]
  },
  {
   "cell_type": "code",
   "execution_count": 14,
   "id": "f530ac5c",
   "metadata": {},
   "outputs": [],
   "source": [
    "# Load API Credentials\n",
    "with open('C:\\\\Users\\\\X474241\\OneDrive - Old Mutual\\\\Documents\\\\GitHub\\\\yelp_api.json') as f:\n",
    "    login = json.load(f)\n",
    "# Instantiate YelpAPI Variable\n",
    "yelp_api = YelpAPI(login['api-key'], timeout_s=5.0)"
   ]
  },
  {
   "cell_type": "code",
   "execution_count": 15,
   "id": "1a542dfb",
   "metadata": {},
   "outputs": [],
   "source": [
    "# set our API call parameters \n",
    "LOCATION = '50 5th Ave, New York, NY 10118'\n",
    "TERM = 'pasta'"
   ]
  },
  {
   "cell_type": "code",
   "execution_count": 16,
   "id": "3b87be40",
   "metadata": {},
   "outputs": [
    {
     "data": {
      "text/plain": [
       "'Data/results_in_progress_NY_pasta.json'"
      ]
     },
     "execution_count": 16,
     "metadata": {},
     "output_type": "execute_result"
    }
   ],
   "source": [
    "JSON_FILE = \"Data/results_in_progress_NY_pasta.json\"\n",
    "JSON_FILE"
   ]
  },
  {
   "cell_type": "code",
   "execution_count": 17,
   "id": "4329e852",
   "metadata": {},
   "outputs": [
    {
     "name": "stdout",
     "output_type": "stream",
     "text": [
      "[i] Data/results_in_progress_NY_pasta.json not found. Saving empty list to file.\n"
     ]
    }
   ],
   "source": [
    "## Check if JSON_FILE exists\n",
    "file_exists = os.path.isfile(JSON_FILE)\n",
    "## If it does not exist: \n",
    "if file_exists == False:\n",
    "    \n",
    "    ## CREATE ANY NEEDED FOLDERS\n",
    "    # Get the Folder Name only\n",
    "    folder = os.path.dirname(JSON_FILE)\n",
    "    ## If JSON_FILE included a folder:\n",
    "    if len(folder)>0:\n",
    "        # create the folder\n",
    "        os.makedirs(folder,exist_ok=True)\n",
    "        \n",
    "        \n",
    "    ## INFORM USER AND SAVE EMPTY LIST\n",
    "    print(f'[i] {JSON_FILE} not found. Saving empty list to file.')\n",
    "    \n",
    "    \n",
    "    # save an empty list\n",
    "    with open(JSON_FILE,'w') as f:\n",
    "        json.dump([],f)  \n",
    "# If it exists, inform user\n",
    "else:\n",
    "    print(f\"[i] {JSON_FILE} already exists.\")"
   ]
  },
  {
   "cell_type": "code",
   "execution_count": 18,
   "id": "5eccc1a6",
   "metadata": {},
   "outputs": [
    {
     "name": "stdout",
     "output_type": "stream",
     "text": [
      "- 0 previous results found.\n"
     ]
    }
   ],
   "source": [
    "## Load previous results and use len of results for offset\n",
    "with open(JSON_FILE,'r') as f:\n",
    "    previous_results = json.load(f)\n",
    "    \n",
    "## set offset based on previous results\n",
    "n_results = len(previous_results)\n",
    "print(f'- {n_results} previous results found.')"
   ]
  },
  {
   "cell_type": "code",
   "execution_count": 19,
   "id": "635383ff",
   "metadata": {},
   "outputs": [
    {
     "data": {
      "text/plain": [
       "dict_keys(['businesses', 'total', 'region'])"
      ]
     },
     "execution_count": 19,
     "metadata": {},
     "output_type": "execute_result"
    }
   ],
   "source": [
    "# use our yelp_api variable's search_query method to perform our API call\n",
    "results = yelp_api.search_query(location=LOCATION,\n",
    "                                term=TERM,\n",
    "                               offset=n_results)\n",
    "results.keys()"
   ]
  },
  {
   "cell_type": "code",
   "execution_count": 4,
   "id": "162ba321",
   "metadata": {},
   "outputs": [],
   "source": [
    "# Load API Credentials\n",
    "#with open('C:\\\\Users\\\\X474241\\OneDrive - Old Mutual\\\\Documents\\\\GitHub\\\\yelp_api.json') as f:\n",
    "#    login = json.load(f)"
   ]
  },
  {
   "cell_type": "code",
   "execution_count": 5,
   "id": "2e6652cd",
   "metadata": {},
   "outputs": [],
   "source": [
    "#headers = {'Authorization': 'Bearer {}'.format(login['api-key'])}"
   ]
  },
  {
   "cell_type": "code",
   "execution_count": 6,
   "id": "54323280",
   "metadata": {},
   "outputs": [],
   "source": [
    "#params = {\"term\": 'pasta',\n",
    "   #       \"location\": \"50 5th Ave, New York, NY 10118\",\n",
    "   #       \"offset\": 20}"
   ]
  },
  {
   "cell_type": "code",
   "execution_count": 7,
   "id": "6f464c18",
   "metadata": {},
   "outputs": [
    {
     "data": {
      "text/plain": [
       "<Response [200]>"
      ]
     },
     "execution_count": 7,
     "metadata": {},
     "output_type": "execute_result"
    }
   ],
   "source": [
    "## Provide API Key in header\n",
    "#headers = {'Authorization': 'Bearer {}'.format(login['api-key'])}\n",
    "## specify query parameters\n",
    "#params = {\"term\": 'pasta',\n",
    " #       \"location\": \"50 5th Ave, New York, NY 10118\"}\n",
    "## Use requests.get and save the response\n",
    "#response = requests.get(search_url, headers=headers, params=params)\n",
    "#response"
   ]
  },
  {
   "cell_type": "code",
   "execution_count": 20,
   "id": "c7fc5f4d",
   "metadata": {},
   "outputs": [
    {
     "data": {
      "text/plain": [
       "3000"
      ]
     },
     "execution_count": 20,
     "metadata": {},
     "output_type": "execute_result"
    }
   ],
   "source": [
    "## How many results total?\n",
    "total_results = results['total']\n",
    "total_results"
   ]
  },
  {
   "cell_type": "code",
   "execution_count": 21,
   "id": "32865d1f",
   "metadata": {},
   "outputs": [
    {
     "data": {
      "text/plain": [
       "20"
      ]
     },
     "execution_count": 21,
     "metadata": {},
     "output_type": "execute_result"
    }
   ],
   "source": [
    "## How many did we get the details for?\n",
    "results_per_page = len(results['businesses'])\n",
    "results_per_page"
   ]
  },
  {
   "cell_type": "code",
   "execution_count": 22,
   "id": "ea9e607b",
   "metadata": {},
   "outputs": [
    {
     "data": {
      "text/plain": [
       "150"
      ]
     },
     "execution_count": 22,
     "metadata": {},
     "output_type": "execute_result"
    }
   ],
   "source": [
    "# Import additional packages for controlling our loop\n",
    "import time, math\n",
    "# Use math.ceil to round up for the total number of pages of results.\n",
    "n_pages = math.ceil((results['total']-n_results)/ results_per_page)\n",
    "n_pages"
   ]
  },
  {
   "cell_type": "code",
   "execution_count": 23,
   "id": "f35dbc79",
   "metadata": {},
   "outputs": [],
   "source": [
    "# join new results with old list with extend and save to file\n",
    "previous_results.extend(results['businesses'])  \n",
    "with open(JSON_FILE,'w') as f:\n",
    "     json.dump(previous_results,f)"
   ]
  },
  {
   "cell_type": "code",
   "execution_count": 24,
   "id": "771b2219",
   "metadata": {},
   "outputs": [
    {
     "name": "stdout",
     "output_type": "stream",
     "text": [
      "Requirement already satisfied: tqdm in c:\\users\\x474241\\appdata\\local\\anaconda3\\lib\\site-packages (4.65.0)\n",
      "Requirement already satisfied: colorama in c:\\users\\x474241\\appdata\\local\\anaconda3\\lib\\site-packages (from tqdm) (0.4.6)\n"
     ]
    }
   ],
   "source": [
    "!pip install tqdm"
   ]
  },
  {
   "cell_type": "code",
   "execution_count": 25,
   "id": "7f2cd322",
   "metadata": {},
   "outputs": [
    {
     "data": {
      "application/vnd.jupyter.widget-view+json": {
       "model_id": "727af5c3bcd843d5bb02724c113f980a",
       "version_major": 2,
       "version_minor": 0
      },
      "text/plain": [
       "  0%|          | 0/150 [00:00<?, ?it/s]"
      ]
     },
     "metadata": {},
     "output_type": "display_data"
    }
   ],
   "source": [
    "from tqdm.notebook import tqdm_notebook\n",
    "import time\n",
    "for i in tqdm_notebook(range(n_pages)):\n",
    "    # adds 200 ms pause\n",
    "    time.sleep(.2) "
   ]
  },
  {
   "cell_type": "code",
   "execution_count": 26,
   "id": "9c1c8ac7",
   "metadata": {},
   "outputs": [
    {
     "data": {
      "application/vnd.jupyter.widget-view+json": {
       "model_id": "552df05f8f4449c4b56c360384d257da",
       "version_major": 2,
       "version_minor": 0
      },
      "text/plain": [
       "  0%|          | 0/150 [00:00<?, ?it/s]"
      ]
     },
     "metadata": {},
     "output_type": "display_data"
    },
    {
     "ename": "HTTPError",
     "evalue": "400 Client Error: Bad Request for url: https://api.yelp.com/v3/businesses/search?location=50+5th+Ave%2C+New+York%2C+NY+10118&term=pasta&offset=1000",
     "output_type": "error",
     "traceback": [
      "\u001b[1;31m---------------------------------------------------------------------------\u001b[0m",
      "\u001b[1;31mHTTPError\u001b[0m                                 Traceback (most recent call last)",
      "Cell \u001b[1;32mIn[26], line 9\u001b[0m\n\u001b[0;32m      7\u001b[0m n_results \u001b[38;5;241m=\u001b[39m \u001b[38;5;28mlen\u001b[39m(previous_results)\n\u001b[0;32m      8\u001b[0m \u001b[38;5;66;03m## use n_results as the OFFSET \u001b[39;00m\n\u001b[1;32m----> 9\u001b[0m results \u001b[38;5;241m=\u001b[39m yelp_api\u001b[38;5;241m.\u001b[39msearch_query(location\u001b[38;5;241m=\u001b[39mLOCATION,\n\u001b[0;32m     10\u001b[0m                                 term\u001b[38;5;241m=\u001b[39mTERM, \n\u001b[0;32m     11\u001b[0m                                 offset\u001b[38;5;241m=\u001b[39mn_results)\n\u001b[0;32m     13\u001b[0m \u001b[38;5;66;03m## append new results and save to file\u001b[39;00m\n\u001b[0;32m     14\u001b[0m previous_results\u001b[38;5;241m.\u001b[39mextend(results[\u001b[38;5;124m'\u001b[39m\u001b[38;5;124mbusinesses\u001b[39m\u001b[38;5;124m'\u001b[39m])\n",
      "File \u001b[1;32m~\\AppData\\Local\\anaconda3\\Lib\\site-packages\\yelpapi\\yelpapi.py:251\u001b[0m, in \u001b[0;36mYelpAPI.search_query\u001b[1;34m(self, **kwargs)\u001b[0m\n\u001b[0;32m    247\u001b[0m \u001b[38;5;28;01mif\u001b[39;00m \u001b[38;5;129;01mnot\u001b[39;00m kwargs\u001b[38;5;241m.\u001b[39mget(\u001b[38;5;124m'\u001b[39m\u001b[38;5;124mlocation\u001b[39m\u001b[38;5;124m'\u001b[39m) \u001b[38;5;129;01mand\u001b[39;00m (\u001b[38;5;129;01mnot\u001b[39;00m kwargs\u001b[38;5;241m.\u001b[39mget(\u001b[38;5;124m'\u001b[39m\u001b[38;5;124mlatitude\u001b[39m\u001b[38;5;124m'\u001b[39m) \u001b[38;5;129;01mor\u001b[39;00m \u001b[38;5;129;01mnot\u001b[39;00m kwargs\u001b[38;5;241m.\u001b[39mget(\u001b[38;5;124m'\u001b[39m\u001b[38;5;124mlongitude\u001b[39m\u001b[38;5;124m'\u001b[39m)):\n\u001b[0;32m    248\u001b[0m     \u001b[38;5;28;01mraise\u001b[39;00m \u001b[38;5;167;01mValueError\u001b[39;00m(\u001b[38;5;124m'\u001b[39m\u001b[38;5;124mA valid location (parameter \u001b[39m\u001b[38;5;124m\"\u001b[39m\u001b[38;5;124mlocation\u001b[39m\u001b[38;5;124m\"\u001b[39m\u001b[38;5;124m) or latitude/longitude combination \u001b[39m\u001b[38;5;124m'\u001b[39m\n\u001b[0;32m    249\u001b[0m                      \u001b[38;5;124m'\u001b[39m\u001b[38;5;124m(parameters \u001b[39m\u001b[38;5;124m\"\u001b[39m\u001b[38;5;124mlatitude\u001b[39m\u001b[38;5;124m\"\u001b[39m\u001b[38;5;124m and \u001b[39m\u001b[38;5;124m\"\u001b[39m\u001b[38;5;124mlongitude\u001b[39m\u001b[38;5;124m\"\u001b[39m\u001b[38;5;124m) must be provided.\u001b[39m\u001b[38;5;124m'\u001b[39m)\n\u001b[1;32m--> 251\u001b[0m \u001b[38;5;28;01mreturn\u001b[39;00m \u001b[38;5;28mself\u001b[39m\u001b[38;5;241m.\u001b[39m_query(SEARCH_API_URL, \u001b[38;5;241m*\u001b[39m\u001b[38;5;241m*\u001b[39mkwargs)\n",
      "File \u001b[1;32m~\\AppData\\Local\\anaconda3\\Lib\\site-packages\\yelpapi\\yelpapi.py:293\u001b[0m, in \u001b[0;36mYelpAPI._query\u001b[1;34m(self, url, **kwargs)\u001b[0m\n\u001b[0;32m    286\u001b[0m parameters \u001b[38;5;241m=\u001b[39m YelpAPI\u001b[38;5;241m.\u001b[39m_get_clean_parameters(kwargs)\n\u001b[0;32m    287\u001b[0m response \u001b[38;5;241m=\u001b[39m \u001b[38;5;28mself\u001b[39m\u001b[38;5;241m.\u001b[39m_yelp_session\u001b[38;5;241m.\u001b[39mget(\n\u001b[0;32m    288\u001b[0m     url,\n\u001b[0;32m    289\u001b[0m     headers\u001b[38;5;241m=\u001b[39m\u001b[38;5;28mself\u001b[39m\u001b[38;5;241m.\u001b[39m_headers,\n\u001b[0;32m    290\u001b[0m     params\u001b[38;5;241m=\u001b[39mparameters,\n\u001b[0;32m    291\u001b[0m     timeout\u001b[38;5;241m=\u001b[39m\u001b[38;5;28mself\u001b[39m\u001b[38;5;241m.\u001b[39m_timeout_s,\n\u001b[0;32m    292\u001b[0m )\n\u001b[1;32m--> 293\u001b[0m response\u001b[38;5;241m.\u001b[39mraise_for_status()  \u001b[38;5;66;03m# will raise error if error status code received: https://requests.readthedocs.io/en/latest/api/#requests.Response.raise_for_status\u001b[39;00m\n\u001b[0;32m    295\u001b[0m response_json \u001b[38;5;241m=\u001b[39m response\u001b[38;5;241m.\u001b[39mjson()  \u001b[38;5;66;03m# shouldn't happen, but this will raise a ValueError if the response isn't JSON\u001b[39;00m\n\u001b[0;32m    297\u001b[0m \u001b[38;5;66;03m# Yelp can return one of many different API errors, so check for one of them.\u001b[39;00m\n\u001b[0;32m    298\u001b[0m \u001b[38;5;66;03m# The Yelp Fusion API does not yet have a complete list of errors, but this is on the TODO list; see\u001b[39;00m\n\u001b[0;32m    299\u001b[0m \u001b[38;5;66;03m# https://github.com/Yelp/yelp-fusion/issues/95 for more info.\u001b[39;00m\n",
      "File \u001b[1;32m~\\AppData\\Local\\anaconda3\\Lib\\site-packages\\requests\\models.py:1021\u001b[0m, in \u001b[0;36mResponse.raise_for_status\u001b[1;34m(self)\u001b[0m\n\u001b[0;32m   1016\u001b[0m     http_error_msg \u001b[38;5;241m=\u001b[39m (\n\u001b[0;32m   1017\u001b[0m         \u001b[38;5;124mf\u001b[39m\u001b[38;5;124m\"\u001b[39m\u001b[38;5;132;01m{\u001b[39;00m\u001b[38;5;28mself\u001b[39m\u001b[38;5;241m.\u001b[39mstatus_code\u001b[38;5;132;01m}\u001b[39;00m\u001b[38;5;124m Server Error: \u001b[39m\u001b[38;5;132;01m{\u001b[39;00mreason\u001b[38;5;132;01m}\u001b[39;00m\u001b[38;5;124m for url: \u001b[39m\u001b[38;5;132;01m{\u001b[39;00m\u001b[38;5;28mself\u001b[39m\u001b[38;5;241m.\u001b[39murl\u001b[38;5;132;01m}\u001b[39;00m\u001b[38;5;124m\"\u001b[39m\n\u001b[0;32m   1018\u001b[0m     )\n\u001b[0;32m   1020\u001b[0m \u001b[38;5;28;01mif\u001b[39;00m http_error_msg:\n\u001b[1;32m-> 1021\u001b[0m     \u001b[38;5;28;01mraise\u001b[39;00m HTTPError(http_error_msg, response\u001b[38;5;241m=\u001b[39m\u001b[38;5;28mself\u001b[39m)\n",
      "\u001b[1;31mHTTPError\u001b[0m: 400 Client Error: Bad Request for url: https://api.yelp.com/v3/businesses/search?location=50+5th+Ave%2C+New+York%2C+NY+10118&term=pasta&offset=1000"
     ]
    }
   ],
   "source": [
    "for i in tqdm_notebook( range(1,n_pages+1)):\n",
    "    \n",
    "    ## Read in results in progress file and check the length\n",
    "    with open(JSON_FILE, 'r') as f:\n",
    "        previous_results = json.load(f)\n",
    "    ## save number of results for to use as offset\n",
    "    n_results = len(previous_results)\n",
    "    ## use n_results as the OFFSET \n",
    "    results = yelp_api.search_query(location=LOCATION,\n",
    "                                    term=TERM, \n",
    "                                    offset=n_results)\n",
    "    \n",
    "    ## append new results and save to file\n",
    "    previous_results.extend(results['businesses'])\n",
    "    \n",
    "    with open(JSON_FILE,'w') as f:\n",
    "        json.dump(previous_results,f)\n",
    "    \n",
    "    # add a 200ms pause\n",
    "    time.sleep(.2)"
   ]
  },
  {
   "cell_type": "code",
   "execution_count": 27,
   "id": "e211dea9",
   "metadata": {},
   "outputs": [
    {
     "data": {
      "text/plain": [
       "False"
      ]
     },
     "execution_count": 27,
     "metadata": {},
     "output_type": "execute_result"
    }
   ],
   "source": [
    "## delete file and confirm it no longer exits.\n",
    "os.remove(JSON_FILE)\n",
    "os.path.isfile(JSON_FILE)"
   ]
  },
  {
   "cell_type": "code",
   "execution_count": 28,
   "id": "ea3705b8",
   "metadata": {},
   "outputs": [],
   "source": [
    "def create_json_file(JSON_FILE,  delete_if_exists=False):\n",
    "    \n",
    "    ## Check if JSON_FILE exists\n",
    "    file_exists = os.path.isfile(JSON_FILE)\n",
    "    \n",
    "    ## If it DOES exist:\n",
    "    if file_exists == True:\n",
    "        \n",
    "        ## Check if user wants to delete if exists\n",
    "        if delete_if_exists==True:\n",
    "            \n",
    "            print(f\"[!] {JSON_FILE} already exists. Deleting previous file...\")\n",
    "            ## delete file and confirm it no longer exits.\n",
    "            os.remove(JSON_FILE)\n",
    "            ## Recursive call to function after old file deleted\n",
    "            create_json_file(JSON_FILE,delete_if_exists=False)\n",
    "        else:\n",
    "            print(f\"[i] {JSON_FILE} already exists.\")            \n",
    "            \n",
    "            \n",
    "    ## If it does NOT exist:\n",
    "    else:\n",
    "        \n",
    "        ## INFORM USER AND SAVE EMPTY LIST\n",
    "        print(f\"[i] {JSON_FILE} not found. Saving empty list to new file.\")\n",
    "        \n",
    "        ## CREATE ANY NEEDED FOLDERS\n",
    "        # Get the Folder Name only\n",
    "        folder = os.path.dirname(JSON_FILE)\n",
    "        \n",
    "        ## If JSON_FILE included a folder:\n",
    "        if len(folder)>0:\n",
    "            # create the folder\n",
    "            os.makedirs(folder,exist_ok=True)\n",
    "        ## Save empty list to start the json file\n",
    "        with open(JSON_FILE,'w') as f:\n",
    "            json.dump([],f)"
   ]
  },
  {
   "cell_type": "code",
   "execution_count": 29,
   "id": "12493d66",
   "metadata": {},
   "outputs": [
    {
     "name": "stdout",
     "output_type": "stream",
     "text": [
      "[i] Data/results_in_progress_NY_pasta.json not found. Saving empty list to new file.\n",
      "- 0 previous results found.\n"
     ]
    },
    {
     "data": {
      "text/plain": [
       "150"
      ]
     },
     "execution_count": 29,
     "metadata": {},
     "output_type": "execute_result"
    }
   ],
   "source": [
    "## Create a new empty json file (exist the previous if it exists)\n",
    "create_json_file(JSON_FILE, delete_if_exists=True)\n",
    "## Load previous results and use len of results for offset\n",
    "with open(JSON_FILE,'r') as f:\n",
    "    previous_results = json.load(f)\n",
    "    \n",
    "## set offset based on previous results\n",
    "n_results = len(previous_results)\n",
    "print(f'- {n_results} previous results found.')\n",
    "# use our yelp_api variable's search_query method to perform our API call\n",
    "results = yelp_api.search_query(location=LOCATION,\n",
    "                                term=TERM,\n",
    "                               offset=n_results)\n",
    "## How many results total?\n",
    "total_results = results['total']\n",
    "## How many did we get the details for?\n",
    "results_per_page = len(results['businesses'])\n",
    "# Use math.ceil to round up for the total number of pages of results.\n",
    "n_pages = math.ceil((results['total']-n_results)/ results_per_page)\n",
    "n_pages"
   ]
  },
  {
   "cell_type": "code",
   "execution_count": 30,
   "id": "4728a471",
   "metadata": {},
   "outputs": [
    {
     "data": {
      "application/vnd.jupyter.widget-view+json": {
       "model_id": "162322d82f53412f99b765b43df9ff02",
       "version_major": 2,
       "version_minor": 0
      },
      "text/plain": [
       "  0%|          | 0/150 [00:00<?, ?it/s]"
      ]
     },
     "metadata": {},
     "output_type": "display_data"
    },
    {
     "name": "stdout",
     "output_type": "stream",
     "text": [
      "Exceeded 1000 api calls. Stopping loop.\n"
     ]
    }
   ],
   "source": [
    "for i in tqdm_notebook( range(1,n_pages+1)):\n",
    "    \n",
    "    ## Read in results in progress file and check the length\n",
    "    with open(JSON_FILE, 'r') as f:\n",
    "        previous_results = json.load(f)\n",
    "    ## save number of results for to use as offset\n",
    "    n_results = len(previous_results)\n",
    "    \n",
    "    if (n_results + results_per_page) > 1000:\n",
    "        print('Exceeded 1000 api calls. Stopping loop.')\n",
    "        break\n",
    "    \n",
    "    ## use n_results as the OFFSET \n",
    "    results = yelp_api.search_query(location=LOCATION,\n",
    "                                    term=TERM, \n",
    "                                    offset=n_results)\n",
    "    \n",
    "    \n",
    "    \n",
    "    ## append new results and save to file\n",
    "    previous_results.extend(results['businesses'])\n",
    "    \n",
    "    # display(previous_results)\n",
    "    with open(JSON_FILE,'w') as f:\n",
    "        json.dump(previous_results,f)\n",
    "    \n",
    "    time.sleep(.2)"
   ]
  },
  {
   "cell_type": "code",
   "execution_count": 31,
   "id": "00328370",
   "metadata": {},
   "outputs": [
    {
     "data": {
      "text/html": [
       "<div>\n",
       "<style scoped>\n",
       "    .dataframe tbody tr th:only-of-type {\n",
       "        vertical-align: middle;\n",
       "    }\n",
       "\n",
       "    .dataframe tbody tr th {\n",
       "        vertical-align: top;\n",
       "    }\n",
       "\n",
       "    .dataframe thead th {\n",
       "        text-align: right;\n",
       "    }\n",
       "</style>\n",
       "<table border=\"1\" class=\"dataframe\">\n",
       "  <thead>\n",
       "    <tr style=\"text-align: right;\">\n",
       "      <th></th>\n",
       "      <th>id</th>\n",
       "      <th>alias</th>\n",
       "      <th>name</th>\n",
       "      <th>image_url</th>\n",
       "      <th>is_closed</th>\n",
       "      <th>url</th>\n",
       "      <th>review_count</th>\n",
       "      <th>categories</th>\n",
       "      <th>rating</th>\n",
       "      <th>coordinates</th>\n",
       "      <th>transactions</th>\n",
       "      <th>price</th>\n",
       "      <th>location</th>\n",
       "      <th>phone</th>\n",
       "      <th>display_phone</th>\n",
       "      <th>distance</th>\n",
       "    </tr>\n",
       "  </thead>\n",
       "  <tbody>\n",
       "    <tr>\n",
       "      <th>0</th>\n",
       "      <td>16ZnHpuaaBt92XWeJHCC5A</td>\n",
       "      <td>olio-e-più-new-york-7</td>\n",
       "      <td>Olio e Più</td>\n",
       "      <td>https://s3-media4.fl.yelpcdn.com/bphoto/CUpPgz...</td>\n",
       "      <td>False</td>\n",
       "      <td>https://www.yelp.com/biz/olio-e-pi%C3%B9-new-y...</td>\n",
       "      <td>4897</td>\n",
       "      <td>[{'alias': 'pizza', 'title': 'Pizza'}, {'alias...</td>\n",
       "      <td>4.5</td>\n",
       "      <td>{'latitude': 40.733798036104304, 'longitude': ...</td>\n",
       "      <td>[delivery, pickup]</td>\n",
       "      <td>$$</td>\n",
       "      <td>{'address1': '3 Greenwich Ave', 'address2': No...</td>\n",
       "      <td>+12122436546</td>\n",
       "      <td>(212) 243-6546</td>\n",
       "      <td>392.670772</td>\n",
       "    </tr>\n",
       "    <tr>\n",
       "      <th>1</th>\n",
       "      <td>hdiuRS9sVZSMReZm4oV5SA</td>\n",
       "      <td>da-andrea-new-york</td>\n",
       "      <td>Da Andrea</td>\n",
       "      <td>https://s3-media1.fl.yelpcdn.com/bphoto/OciLdd...</td>\n",
       "      <td>False</td>\n",
       "      <td>https://www.yelp.com/biz/da-andrea-new-york?ad...</td>\n",
       "      <td>2101</td>\n",
       "      <td>[{'alias': 'italian', 'title': 'Italian'}, {'a...</td>\n",
       "      <td>4.5</td>\n",
       "      <td>{'latitude': 40.736218, 'longitude': -73.99597}</td>\n",
       "      <td>[restaurant_reservation, delivery, pickup]</td>\n",
       "      <td>$$</td>\n",
       "      <td>{'address1': '35 W 13th St', 'address2': '', '...</td>\n",
       "      <td>+12123671979</td>\n",
       "      <td>(212) 367-1979</td>\n",
       "      <td>229.670682</td>\n",
       "    </tr>\n",
       "    <tr>\n",
       "      <th>2</th>\n",
       "      <td>R-ve5GRzP0WlbQvDVI3HKg</td>\n",
       "      <td>pane-pasta-new-york</td>\n",
       "      <td>Pane Pasta</td>\n",
       "      <td>https://s3-media4.fl.yelpcdn.com/bphoto/PoKPQW...</td>\n",
       "      <td>False</td>\n",
       "      <td>https://www.yelp.com/biz/pane-pasta-new-york?a...</td>\n",
       "      <td>64</td>\n",
       "      <td>[{'alias': 'italian', 'title': 'Italian'}]</td>\n",
       "      <td>4.5</td>\n",
       "      <td>{'latitude': 40.73328, 'longitude': -73.99905}</td>\n",
       "      <td>[delivery, pickup]</td>\n",
       "      <td>NaN</td>\n",
       "      <td>{'address1': '58 West 8th St', 'address2': Non...</td>\n",
       "      <td>+16468910006</td>\n",
       "      <td>(646) 891-0006</td>\n",
       "      <td>348.312262</td>\n",
       "    </tr>\n",
       "    <tr>\n",
       "      <th>3</th>\n",
       "      <td>WG639VkTjmK5dzydd1BBJA</td>\n",
       "      <td>rubirosa-new-york-2</td>\n",
       "      <td>Rubirosa</td>\n",
       "      <td>https://s3-media3.fl.yelpcdn.com/bphoto/l0Phrn...</td>\n",
       "      <td>False</td>\n",
       "      <td>https://www.yelp.com/biz/rubirosa-new-york-2?a...</td>\n",
       "      <td>3194</td>\n",
       "      <td>[{'alias': 'italian', 'title': 'Italian'}, {'a...</td>\n",
       "      <td>4.5</td>\n",
       "      <td>{'latitude': 40.722766, 'longitude': -73.996233}</td>\n",
       "      <td>[pickup]</td>\n",
       "      <td>$$</td>\n",
       "      <td>{'address1': '235 Mulberry St', 'address2': ''...</td>\n",
       "      <td>+12129650500</td>\n",
       "      <td>(212) 965-0500</td>\n",
       "      <td>1279.967959</td>\n",
       "    </tr>\n",
       "    <tr>\n",
       "      <th>4</th>\n",
       "      <td>hSpZSqElyjHTfE4lQJ97Cg</td>\n",
       "      <td>mareluna-new-york</td>\n",
       "      <td>Mareluna</td>\n",
       "      <td>https://s3-media1.fl.yelpcdn.com/bphoto/Sec0CN...</td>\n",
       "      <td>False</td>\n",
       "      <td>https://www.yelp.com/biz/mareluna-new-york?adj...</td>\n",
       "      <td>82</td>\n",
       "      <td>[{'alias': 'italian', 'title': 'Italian'}, {'a...</td>\n",
       "      <td>4.5</td>\n",
       "      <td>{'latitude': 40.726787, 'longitude': -74.001836}</td>\n",
       "      <td>[delivery, pickup]</td>\n",
       "      <td>NaN</td>\n",
       "      <td>{'address1': '137 Sullivan St', 'address2': No...</td>\n",
       "      <td>+12125107774</td>\n",
       "      <td>(212) 510-7774</td>\n",
       "      <td>1002.742646</td>\n",
       "    </tr>\n",
       "  </tbody>\n",
       "</table>\n",
       "</div>"
      ],
      "text/plain": [
       "                       id                  alias        name  \\\n",
       "0  16ZnHpuaaBt92XWeJHCC5A  olio-e-più-new-york-7  Olio e Più   \n",
       "1  hdiuRS9sVZSMReZm4oV5SA     da-andrea-new-york   Da Andrea   \n",
       "2  R-ve5GRzP0WlbQvDVI3HKg    pane-pasta-new-york  Pane Pasta   \n",
       "3  WG639VkTjmK5dzydd1BBJA    rubirosa-new-york-2    Rubirosa   \n",
       "4  hSpZSqElyjHTfE4lQJ97Cg      mareluna-new-york    Mareluna   \n",
       "\n",
       "                                           image_url  is_closed  \\\n",
       "0  https://s3-media4.fl.yelpcdn.com/bphoto/CUpPgz...      False   \n",
       "1  https://s3-media1.fl.yelpcdn.com/bphoto/OciLdd...      False   \n",
       "2  https://s3-media4.fl.yelpcdn.com/bphoto/PoKPQW...      False   \n",
       "3  https://s3-media3.fl.yelpcdn.com/bphoto/l0Phrn...      False   \n",
       "4  https://s3-media1.fl.yelpcdn.com/bphoto/Sec0CN...      False   \n",
       "\n",
       "                                                 url  review_count  \\\n",
       "0  https://www.yelp.com/biz/olio-e-pi%C3%B9-new-y...          4897   \n",
       "1  https://www.yelp.com/biz/da-andrea-new-york?ad...          2101   \n",
       "2  https://www.yelp.com/biz/pane-pasta-new-york?a...            64   \n",
       "3  https://www.yelp.com/biz/rubirosa-new-york-2?a...          3194   \n",
       "4  https://www.yelp.com/biz/mareluna-new-york?adj...            82   \n",
       "\n",
       "                                          categories  rating  \\\n",
       "0  [{'alias': 'pizza', 'title': 'Pizza'}, {'alias...     4.5   \n",
       "1  [{'alias': 'italian', 'title': 'Italian'}, {'a...     4.5   \n",
       "2         [{'alias': 'italian', 'title': 'Italian'}]     4.5   \n",
       "3  [{'alias': 'italian', 'title': 'Italian'}, {'a...     4.5   \n",
       "4  [{'alias': 'italian', 'title': 'Italian'}, {'a...     4.5   \n",
       "\n",
       "                                         coordinates  \\\n",
       "0  {'latitude': 40.733798036104304, 'longitude': ...   \n",
       "1    {'latitude': 40.736218, 'longitude': -73.99597}   \n",
       "2     {'latitude': 40.73328, 'longitude': -73.99905}   \n",
       "3   {'latitude': 40.722766, 'longitude': -73.996233}   \n",
       "4   {'latitude': 40.726787, 'longitude': -74.001836}   \n",
       "\n",
       "                                 transactions price  \\\n",
       "0                          [delivery, pickup]    $$   \n",
       "1  [restaurant_reservation, delivery, pickup]    $$   \n",
       "2                          [delivery, pickup]   NaN   \n",
       "3                                    [pickup]    $$   \n",
       "4                          [delivery, pickup]   NaN   \n",
       "\n",
       "                                            location         phone  \\\n",
       "0  {'address1': '3 Greenwich Ave', 'address2': No...  +12122436546   \n",
       "1  {'address1': '35 W 13th St', 'address2': '', '...  +12123671979   \n",
       "2  {'address1': '58 West 8th St', 'address2': Non...  +16468910006   \n",
       "3  {'address1': '235 Mulberry St', 'address2': ''...  +12129650500   \n",
       "4  {'address1': '137 Sullivan St', 'address2': No...  +12125107774   \n",
       "\n",
       "    display_phone     distance  \n",
       "0  (212) 243-6546   392.670772  \n",
       "1  (212) 367-1979   229.670682  \n",
       "2  (646) 891-0006   348.312262  \n",
       "3  (212) 965-0500  1279.967959  \n",
       "4  (212) 510-7774  1002.742646  "
      ]
     },
     "metadata": {},
     "output_type": "display_data"
    },
    {
     "data": {
      "text/html": [
       "<div>\n",
       "<style scoped>\n",
       "    .dataframe tbody tr th:only-of-type {\n",
       "        vertical-align: middle;\n",
       "    }\n",
       "\n",
       "    .dataframe tbody tr th {\n",
       "        vertical-align: top;\n",
       "    }\n",
       "\n",
       "    .dataframe thead th {\n",
       "        text-align: right;\n",
       "    }\n",
       "</style>\n",
       "<table border=\"1\" class=\"dataframe\">\n",
       "  <thead>\n",
       "    <tr style=\"text-align: right;\">\n",
       "      <th></th>\n",
       "      <th>id</th>\n",
       "      <th>alias</th>\n",
       "      <th>name</th>\n",
       "      <th>image_url</th>\n",
       "      <th>is_closed</th>\n",
       "      <th>url</th>\n",
       "      <th>review_count</th>\n",
       "      <th>categories</th>\n",
       "      <th>rating</th>\n",
       "      <th>coordinates</th>\n",
       "      <th>transactions</th>\n",
       "      <th>price</th>\n",
       "      <th>location</th>\n",
       "      <th>phone</th>\n",
       "      <th>display_phone</th>\n",
       "      <th>distance</th>\n",
       "    </tr>\n",
       "  </thead>\n",
       "  <tbody>\n",
       "    <tr>\n",
       "      <th>995</th>\n",
       "      <td>mXN9tmuDHZIfCeUBYqSRuQ</td>\n",
       "      <td>john-doe-new-york</td>\n",
       "      <td>John Doe</td>\n",
       "      <td>https://s3-media2.fl.yelpcdn.com/bphoto/gM7oSy...</td>\n",
       "      <td>False</td>\n",
       "      <td>https://www.yelp.com/biz/john-doe-new-york?adj...</td>\n",
       "      <td>208</td>\n",
       "      <td>[{'alias': 'newamerican', 'title': 'New Americ...</td>\n",
       "      <td>4.0</td>\n",
       "      <td>{'latitude': 40.74477, 'longitude': -73.98701}</td>\n",
       "      <td>[pickup, delivery]</td>\n",
       "      <td>$$</td>\n",
       "      <td>{'address1': '253 5th Ave', 'address2': '', 'a...</td>\n",
       "      <td>+16468824007</td>\n",
       "      <td>(646) 882-4007</td>\n",
       "      <td>1356.970555</td>\n",
       "    </tr>\n",
       "    <tr>\n",
       "      <th>996</th>\n",
       "      <td>-KKgqE2g4c1cH4YmmDR9CQ</td>\n",
       "      <td>bernies-brooklyn</td>\n",
       "      <td>Bernie's</td>\n",
       "      <td>https://s3-media1.fl.yelpcdn.com/bphoto/hWlvgX...</td>\n",
       "      <td>False</td>\n",
       "      <td>https://www.yelp.com/biz/bernies-brooklyn?adju...</td>\n",
       "      <td>132</td>\n",
       "      <td>[{'alias': 'newamerican', 'title': 'New Americ...</td>\n",
       "      <td>4.5</td>\n",
       "      <td>{'latitude': 40.721936, 'longitude': -73.950597}</td>\n",
       "      <td>[]</td>\n",
       "      <td>$$</td>\n",
       "      <td>{'address1': '332 Driggs Ave', 'address2': '',...</td>\n",
       "      <td>+13475296400</td>\n",
       "      <td>(347) 529-6400</td>\n",
       "      <td>3996.944798</td>\n",
       "    </tr>\n",
       "    <tr>\n",
       "      <th>997</th>\n",
       "      <td>BaeUVrAj5f3YF1razW5bow</td>\n",
       "      <td>11-tigers-new-york-2</td>\n",
       "      <td>11 Tigers</td>\n",
       "      <td>https://s3-media2.fl.yelpcdn.com/bphoto/tU8h7o...</td>\n",
       "      <td>False</td>\n",
       "      <td>https://www.yelp.com/biz/11-tigers-new-york-2?...</td>\n",
       "      <td>157</td>\n",
       "      <td>[{'alias': 'asianfusion', 'title': 'Asian Fusi...</td>\n",
       "      <td>4.0</td>\n",
       "      <td>{'latitude': 40.72908, 'longitude': -73.97815}</td>\n",
       "      <td>[pickup, delivery, restaurant_reservation]</td>\n",
       "      <td>NaN</td>\n",
       "      <td>{'address1': '225 Avenue B', 'address2': 'Fl 2...</td>\n",
       "      <td>+19292356826</td>\n",
       "      <td>(929) 235-6826</td>\n",
       "      <td>1546.159588</td>\n",
       "    </tr>\n",
       "    <tr>\n",
       "      <th>998</th>\n",
       "      <td>G-b9kvnRh0pLi4fsdcmwjg</td>\n",
       "      <td>josephs-restaurant-new-york-112</td>\n",
       "      <td>Joseph's Restaurant</td>\n",
       "      <td>https://s3-media3.fl.yelpcdn.com/bphoto/ZGG37M...</td>\n",
       "      <td>False</td>\n",
       "      <td>https://www.yelp.com/biz/josephs-restaurant-ne...</td>\n",
       "      <td>91</td>\n",
       "      <td>[{'alias': 'italian', 'title': 'Italian'}, {'a...</td>\n",
       "      <td>4.0</td>\n",
       "      <td>{'latitude': 40.70499, 'longitude': -74.00961}</td>\n",
       "      <td>[pickup, delivery]</td>\n",
       "      <td>$$</td>\n",
       "      <td>{'address1': '3 Hanover Square', 'address2': N...</td>\n",
       "      <td>+12127471300</td>\n",
       "      <td>(212) 747-1300</td>\n",
       "      <td>3484.237934</td>\n",
       "    </tr>\n",
       "    <tr>\n",
       "      <th>999</th>\n",
       "      <td>4M3jBdELCcCKJl1mEnTxzQ</td>\n",
       "      <td>lamias-fish-market-new-york-2</td>\n",
       "      <td>Lamia's Fish Market</td>\n",
       "      <td>https://s3-media4.fl.yelpcdn.com/bphoto/15pOL7...</td>\n",
       "      <td>False</td>\n",
       "      <td>https://www.yelp.com/biz/lamias-fish-market-ne...</td>\n",
       "      <td>742</td>\n",
       "      <td>[{'alias': 'seafood', 'title': 'Seafood'}, {'a...</td>\n",
       "      <td>3.5</td>\n",
       "      <td>{'latitude': 40.722979, 'longitude': -73.9825102}</td>\n",
       "      <td>[pickup, delivery]</td>\n",
       "      <td>$$$</td>\n",
       "      <td>{'address1': '47 Ave B', 'address2': None, 'ad...</td>\n",
       "      <td>+12127773650</td>\n",
       "      <td>(212) 777-3650</td>\n",
       "      <td>1644.620271</td>\n",
       "    </tr>\n",
       "  </tbody>\n",
       "</table>\n",
       "</div>"
      ],
      "text/plain": [
       "                         id                            alias  \\\n",
       "995  mXN9tmuDHZIfCeUBYqSRuQ                john-doe-new-york   \n",
       "996  -KKgqE2g4c1cH4YmmDR9CQ                 bernies-brooklyn   \n",
       "997  BaeUVrAj5f3YF1razW5bow             11-tigers-new-york-2   \n",
       "998  G-b9kvnRh0pLi4fsdcmwjg  josephs-restaurant-new-york-112   \n",
       "999  4M3jBdELCcCKJl1mEnTxzQ    lamias-fish-market-new-york-2   \n",
       "\n",
       "                    name                                          image_url  \\\n",
       "995             John Doe  https://s3-media2.fl.yelpcdn.com/bphoto/gM7oSy...   \n",
       "996             Bernie's  https://s3-media1.fl.yelpcdn.com/bphoto/hWlvgX...   \n",
       "997            11 Tigers  https://s3-media2.fl.yelpcdn.com/bphoto/tU8h7o...   \n",
       "998  Joseph's Restaurant  https://s3-media3.fl.yelpcdn.com/bphoto/ZGG37M...   \n",
       "999  Lamia's Fish Market  https://s3-media4.fl.yelpcdn.com/bphoto/15pOL7...   \n",
       "\n",
       "     is_closed                                                url  \\\n",
       "995      False  https://www.yelp.com/biz/john-doe-new-york?adj...   \n",
       "996      False  https://www.yelp.com/biz/bernies-brooklyn?adju...   \n",
       "997      False  https://www.yelp.com/biz/11-tigers-new-york-2?...   \n",
       "998      False  https://www.yelp.com/biz/josephs-restaurant-ne...   \n",
       "999      False  https://www.yelp.com/biz/lamias-fish-market-ne...   \n",
       "\n",
       "     review_count                                         categories  rating  \\\n",
       "995           208  [{'alias': 'newamerican', 'title': 'New Americ...     4.0   \n",
       "996           132  [{'alias': 'newamerican', 'title': 'New Americ...     4.5   \n",
       "997           157  [{'alias': 'asianfusion', 'title': 'Asian Fusi...     4.0   \n",
       "998            91  [{'alias': 'italian', 'title': 'Italian'}, {'a...     4.0   \n",
       "999           742  [{'alias': 'seafood', 'title': 'Seafood'}, {'a...     3.5   \n",
       "\n",
       "                                           coordinates  \\\n",
       "995     {'latitude': 40.74477, 'longitude': -73.98701}   \n",
       "996   {'latitude': 40.721936, 'longitude': -73.950597}   \n",
       "997     {'latitude': 40.72908, 'longitude': -73.97815}   \n",
       "998     {'latitude': 40.70499, 'longitude': -74.00961}   \n",
       "999  {'latitude': 40.722979, 'longitude': -73.9825102}   \n",
       "\n",
       "                                   transactions price  \\\n",
       "995                          [pickup, delivery]    $$   \n",
       "996                                          []    $$   \n",
       "997  [pickup, delivery, restaurant_reservation]   NaN   \n",
       "998                          [pickup, delivery]    $$   \n",
       "999                          [pickup, delivery]   $$$   \n",
       "\n",
       "                                              location         phone  \\\n",
       "995  {'address1': '253 5th Ave', 'address2': '', 'a...  +16468824007   \n",
       "996  {'address1': '332 Driggs Ave', 'address2': '',...  +13475296400   \n",
       "997  {'address1': '225 Avenue B', 'address2': 'Fl 2...  +19292356826   \n",
       "998  {'address1': '3 Hanover Square', 'address2': N...  +12127471300   \n",
       "999  {'address1': '47 Ave B', 'address2': None, 'ad...  +12127773650   \n",
       "\n",
       "      display_phone     distance  \n",
       "995  (646) 882-4007  1356.970555  \n",
       "996  (347) 529-6400  3996.944798  \n",
       "997  (929) 235-6826  1546.159588  \n",
       "998  (212) 747-1300  3484.237934  \n",
       "999  (212) 777-3650  1644.620271  "
      ]
     },
     "metadata": {},
     "output_type": "display_data"
    }
   ],
   "source": [
    "# load final results\n",
    "final_df = pd.read_json(JSON_FILE)\n",
    "display(final_df.head(), final_df.tail())"
   ]
  },
  {
   "cell_type": "code",
   "execution_count": 33,
   "id": "9f02b166",
   "metadata": {},
   "outputs": [
    {
     "data": {
      "text/plain": [
       "0"
      ]
     },
     "execution_count": 33,
     "metadata": {},
     "output_type": "execute_result"
    }
   ],
   "source": [
    "# check for duplicate ID's \n",
    "final_df.duplicated(subset='id').sum()"
   ]
  },
  {
   "cell_type": "code",
   "execution_count": 34,
   "id": "47ba322f",
   "metadata": {},
   "outputs": [],
   "source": [
    "# save the final results to a compressed csv\n",
    "final_df.to_csv('Data/results_in_progress_NY_pasta.csv.gz', compression='gzip',index=False)"
   ]
  }
 ],
 "metadata": {
  "kernelspec": {
   "display_name": "Python (dojo-env)",
   "language": "python",
   "name": "dojo-env"
  },
  "language_info": {
   "codemirror_mode": {
    "name": "ipython",
    "version": 3
   },
   "file_extension": ".py",
   "mimetype": "text/x-python",
   "name": "python",
   "nbconvert_exporter": "python",
   "pygments_lexer": "ipython3",
   "version": "3.11.5"
  }
 },
 "nbformat": 4,
 "nbformat_minor": 5
}
